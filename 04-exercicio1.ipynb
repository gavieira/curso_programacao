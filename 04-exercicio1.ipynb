{
  "nbformat": 4,
  "nbformat_minor": 0,
  "metadata": {
    "kernelspec": {
      "display_name": "Python 3",
      "language": "python",
      "name": "python3"
    },
    "language_info": {
      "codemirror_mode": {
        "name": "ipython",
        "version": 3
      },
      "file_extension": ".py",
      "mimetype": "text/x-python",
      "name": "python",
      "nbconvert_exporter": "python",
      "pygments_lexer": "ipython3",
      "version": "3.8.3"
    },
    "colab": {
      "name": "04-exercicio1.ipynb",
      "provenance": []
    }
  },
  "cells": [
    {
      "cell_type": "markdown",
      "metadata": {
        "id": "6XMru-0N4Wu9"
      },
      "source": [
        "# Exercícios"
      ]
    },
    {
      "cell_type": "markdown",
      "metadata": {
        "id": "3AL16pTs4WvC"
      },
      "source": [
        "## 1\n",
        "Escreva um programa que imprima \"Hello World!\" na tela ao ser executado."
      ]
    },
    {
      "cell_type": "code",
      "metadata": {
        "id": "oQum6EEZ4WvF"
      },
      "source": [
        "#Testando se o push pelo google colab está funcionando\n",
        "print(\"Hello World!\")"
      ],
      "execution_count": null,
      "outputs": []
    },
    {
      "cell_type": "markdown",
      "metadata": {
        "id": "-6E7JFXw4WvS"
      },
      "source": [
        "## 2\n",
        "Escreva uma função que receba três números. Ela deve:\n",
        "- Somar o primeiro com o quadrado do segundo\n",
        "- Dividir essa soma pelo terceiro\n",
        "- Retornar o número resultante"
      ]
    },
    {
      "cell_type": "code",
      "metadata": {
        "id": "Tkyo54B24WvU",
        "outputId": "3ea20009-8a86-400c-c13c-ad3a9a22d5c7",
        "colab": {
          "base_uri": "https://localhost:8080/",
          "height": 34
        }
      },
      "source": [
        "#olá alunos, como vocês estão? Segunda é aniversário do João!\n",
        "def func(num1, num2, num3):\n",
        "    return ((num1 + num2**2)/num3)\n",
        "    \n",
        "func(10, 5, 20)\n",
        "#Não consegui fazer separadamente"
      ],
      "execution_count": 23,
      "outputs": [
        {
          "output_type": "execute_result",
          "data": {
            "text/plain": [
              "1.75"
            ]
          },
          "metadata": {
            "tags": []
          },
          "execution_count": 23
        }
      ]
    },
    {
      "cell_type": "code",
      "metadata": {
        "id": "du2HkHe0VxPJ",
        "outputId": "394a72b9-6a3c-40c5-a025-bbe078070247",
        "colab": {
          "base_uri": "https://localhost:8080/",
          "height": 34
        }
      },
      "source": [
        "#olá alunos, como vocês estão? Segunda é aniversário do João!\n",
        "def func(num1, num2, num3):\n",
        "    return (num1 + num2**2)/num3\n",
        "func(10, 5, 20)\n",
        "#Não consegui fazer separadamente"
      ],
      "execution_count": 25,
      "outputs": [
        {
          "output_type": "execute_result",
          "data": {
            "text/plain": [
              "1.75"
            ]
          },
          "metadata": {
            "tags": []
          },
          "execution_count": 25
        }
      ]
    },
    {
      "cell_type": "markdown",
      "metadata": {
        "id": "PAXsufQH4Wve"
      },
      "source": [
        "## 3\n",
        "Escreva as funções descritas abaixo:\n",
        "- Dica: Lembre que os valores que variam devem ser sempre passados para a função como argumentos."
      ]
    },
    {
      "cell_type": "markdown",
      "metadata": {
        "id": "nG9vywR74Wvg"
      },
      "source": [
        "Função que retorne a área de um quadrilátero:"
      ]
    },
    {
      "cell_type": "code",
      "metadata": {
        "id": "yEICiUVE4Wvi",
        "outputId": "bc680149-f67f-483d-f370-3b80b91bafc1",
        "colab": {
          "base_uri": "https://localhost:8080/",
          "height": 34
        }
      },
      "source": [
        "def área_quadrilátero(base, altura):\n",
        "    return base * altura\n",
        "\n",
        "área_quadrilátero(2, 2)"
      ],
      "execution_count": 27,
      "outputs": [
        {
          "output_type": "execute_result",
          "data": {
            "text/plain": [
              "4"
            ]
          },
          "metadata": {
            "tags": []
          },
          "execution_count": 27
        }
      ]
    },
    {
      "cell_type": "markdown",
      "metadata": {
        "id": "5-Pe_sT14Wvr"
      },
      "source": [
        "Função que retorne o volume de uma caixa:"
      ]
    },
    {
      "cell_type": "code",
      "metadata": {
        "id": "RsHEp2wF4Wvt",
        "outputId": "20efa3f0-35a2-41ad-b853-ba2f580dab48",
        "colab": {
          "base_uri": "https://localhost:8080/",
          "height": 34
        }
      },
      "source": [
        "def área_caixa(base, altura, profundidade):\n",
        "    return base * altura * profundidade\n",
        "área_caixa(2, 6, 10)"
      ],
      "execution_count": 28,
      "outputs": [
        {
          "output_type": "execute_result",
          "data": {
            "text/plain": [
              "120"
            ]
          },
          "metadata": {
            "tags": []
          },
          "execution_count": 28
        }
      ]
    },
    {
      "cell_type": "markdown",
      "metadata": {
        "id": "_nymbAmW4Wv5"
      },
      "source": [
        "Função que retorne o comprimento de uma circunferência:"
      ]
    },
    {
      "cell_type": "code",
      "metadata": {
        "id": "9DT_auNe4Wv7",
        "outputId": "3dbdf56d-b588-4df9-a293-9b5356156594",
        "colab": {
          "base_uri": "https://localhost:8080/",
          "height": 34
        }
      },
      "source": [
        "def comprimento_circunferência(raio):\n",
        "    return (2*3.14*raio)\n",
        "\n",
        "comprimento_circunferência(3)"
      ],
      "execution_count": 29,
      "outputs": [
        {
          "output_type": "execute_result",
          "data": {
            "text/plain": [
              "18.84"
            ]
          },
          "metadata": {
            "tags": []
          },
          "execution_count": 29
        }
      ]
    },
    {
      "cell_type": "markdown",
      "metadata": {
        "id": "iHLeEZZo4WwE"
      },
      "source": [
        "Função que retorne a área de um círculo:"
      ]
    },
    {
      "cell_type": "code",
      "metadata": {
        "id": "WNiAgE-34WwG",
        "outputId": "9d119ed3-b580-4768-dceb-b9f1861712dc",
        "colab": {
          "base_uri": "https://localhost:8080/",
          "height": 34
        }
      },
      "source": [
        "def área_cir(raio2):\n",
        "    return (3.14*raio2**2)\n",
        "\n",
        "área_cir(3)"
      ],
      "execution_count": 30,
      "outputs": [
        {
          "output_type": "execute_result",
          "data": {
            "text/plain": [
              "28.26"
            ]
          },
          "metadata": {
            "tags": []
          },
          "execution_count": 30
        }
      ]
    },
    {
      "cell_type": "markdown",
      "metadata": {
        "id": "zmLNV3ql4WwS"
      },
      "source": [
        "Função que retorne o volume de uma esfera:"
      ]
    },
    {
      "cell_type": "code",
      "metadata": {
        "id": "jVXre2cZ4WwU",
        "outputId": "3d9a643f-ed69-4096-b5f8-e1f040685350",
        "colab": {
          "base_uri": "https://localhost:8080/",
          "height": 34
        }
      },
      "source": [
        "def volume_cir(raio):\n",
        "    return (3/4)*3.14*raio**3\n",
        "\n",
        "volume_cir(3)"
      ],
      "execution_count": 31,
      "outputs": [
        {
          "output_type": "execute_result",
          "data": {
            "text/plain": [
              "63.585"
            ]
          },
          "metadata": {
            "tags": []
          },
          "execution_count": 31
        }
      ]
    },
    {
      "cell_type": "markdown",
      "metadata": {
        "id": "9NjoJmdA4Wwc"
      },
      "source": [
        "Função que calcule e retorne juros simples:"
      ]
    },
    {
      "cell_type": "code",
      "metadata": {
        "id": "hUrkp9Sx4Wwe",
        "outputId": "3dd63796-062c-4b7e-8996-8dbe06b11f95",
        "colab": {
          "base_uri": "https://localhost:8080/",
          "height": 34
        }
      },
      "source": [
        "def juros_s(capital, taxa, período):\n",
        "    return capital*taxa*período\n",
        "\n",
        "juros_s(500, 0.1, 5)"
      ],
      "execution_count": 36,
      "outputs": [
        {
          "output_type": "execute_result",
          "data": {
            "text/plain": [
              "250.0"
            ]
          },
          "metadata": {
            "tags": []
          },
          "execution_count": 36
        }
      ]
    },
    {
      "cell_type": "markdown",
      "metadata": {
        "id": "AkKrrfpE4Wwo"
      },
      "source": [
        "Função que calcule e retorne juros compostos:"
      ]
    },
    {
      "cell_type": "code",
      "metadata": {
        "id": "bqj3dSOP4Wwp",
        "outputId": "bee7f567-c0a1-451c-ae7d-74fb0b2e2e08",
        "colab": {
          "base_uri": "https://localhost:8080/",
          "height": 34
        }
      },
      "source": [
        "def juros_c(c, i, n):\n",
        "    return c*(1+i)**n\n",
        "\n",
        "juros_c(200, 3, 2)"
      ],
      "execution_count": 39,
      "outputs": [
        {
          "output_type": "execute_result",
          "data": {
            "text/plain": [
              "3200"
            ]
          },
          "metadata": {
            "tags": []
          },
          "execution_count": 39
        }
      ]
    },
    {
      "cell_type": "markdown",
      "metadata": {
        "id": "ImIgSCB64Wwy"
      },
      "source": [
        "Função que retorne o seno de um ângulo:"
      ]
    },
    {
      "cell_type": "code",
      "metadata": {
        "id": "LMnuQHUW4Ww2"
      },
      "source": [
        "def seno(cat_o, hipo):\n",
        "    return cat_o/hipo\n",
        "\n",
        "sen = seno(5, 7)"
      ],
      "execution_count": 43,
      "outputs": []
    },
    {
      "cell_type": "code",
      "metadata": {
        "id": "czDTfwaDbVbP",
        "outputId": "e0f1510b-a51e-4a04-bc6c-fa3ce90394c3",
        "colab": {
          "base_uri": "https://localhost:8080/",
          "height": 34
        }
      },
      "source": [
        "sen"
      ],
      "execution_count": 44,
      "outputs": [
        {
          "output_type": "execute_result",
          "data": {
            "text/plain": [
              "0.7142857142857143"
            ]
          },
          "metadata": {
            "tags": []
          },
          "execution_count": 44
        }
      ]
    },
    {
      "cell_type": "markdown",
      "metadata": {
        "id": "5dOsoOph4WxA"
      },
      "source": [
        "Função que retorne o cosseno de um ângulo:"
      ]
    },
    {
      "cell_type": "code",
      "metadata": {
        "id": "4JQsPO1i4WxC"
      },
      "source": [
        "def cosseno(cat_a, hipo):\n",
        "    return cat_a/hipo\n",
        "\n",
        "cos = cosseno(4.9, 7)\n",
        "\n",
        "#25 + b**2 = 49\n",
        "#b**2 = 24"
      ],
      "execution_count": 46,
      "outputs": []
    },
    {
      "cell_type": "code",
      "metadata": {
        "id": "UnQAdrQMbZth",
        "outputId": "b240b2f8-3832-48ff-b1e4-2cdb3dfb595c",
        "colab": {
          "base_uri": "https://localhost:8080/",
          "height": 34
        }
      },
      "source": [
        "cos"
      ],
      "execution_count": 47,
      "outputs": [
        {
          "output_type": "execute_result",
          "data": {
            "text/plain": [
              "0.7000000000000001"
            ]
          },
          "metadata": {
            "tags": []
          },
          "execution_count": 47
        }
      ]
    },
    {
      "cell_type": "code",
      "metadata": {
        "id": "qlxDxsZ3a8Ya",
        "outputId": "88daffeb-6711-4442-f31b-85ec31f59017",
        "colab": {
          "base_uri": "https://localhost:8080/",
          "height": 34
        }
      },
      "source": [
        "24**(1/2)"
      ],
      "execution_count": 41,
      "outputs": [
        {
          "output_type": "execute_result",
          "data": {
            "text/plain": [
              "4.898979485566356"
            ]
          },
          "metadata": {
            "tags": []
          },
          "execution_count": 41
        }
      ]
    },
    {
      "cell_type": "markdown",
      "metadata": {
        "id": "mDBtv1vb4WxT"
      },
      "source": [
        "Função que retorne a tangente de um ângulo:"
      ]
    },
    {
      "cell_type": "code",
      "metadata": {
        "id": "lMGUZY9s4WxV",
        "outputId": "cc5fa36e-19b2-472c-d755-067fe46dfa7d",
        "colab": {
          "base_uri": "https://localhost:8080/",
          "height": 34
        }
      },
      "source": [
        "def tg(seno, cosseno):\n",
        "    return seno/cosseno\n",
        "\n",
        "tg(sen, cos)"
      ],
      "execution_count": 49,
      "outputs": [
        {
          "output_type": "execute_result",
          "data": {
            "text/plain": [
              "1.0204081632653061"
            ]
          },
          "metadata": {
            "tags": []
          },
          "execution_count": 49
        }
      ]
    },
    {
      "cell_type": "code",
      "metadata": {
        "id": "j21ZSr6bbn28",
        "outputId": "cabcf481-ec4d-4563-99a9-45285aef5995",
        "colab": {
          "base_uri": "https://localhost:8080/",
          "height": 34
        }
      },
      "source": [
        "tg(seno(5,7), cosseno(4.9,7))"
      ],
      "execution_count": 50,
      "outputs": [
        {
          "output_type": "execute_result",
          "data": {
            "text/plain": [
              "1.0204081632653061"
            ]
          },
          "metadata": {
            "tags": []
          },
          "execution_count": 50
        }
      ]
    },
    {
      "cell_type": "markdown",
      "metadata": {
        "id": "cwzq0YBP4Wxd"
      },
      "source": [
        "Função que converta temperatura em Celsius para Fahrenheit:"
      ]
    },
    {
      "cell_type": "code",
      "metadata": {
        "id": "wXRwNXl_4Wxf",
        "outputId": "28e49cbc-144d-45da-c4d1-dcfba90c5e12",
        "colab": {
          "base_uri": "https://localhost:8080/",
          "height": 34
        }
      },
      "source": [
        "def fahrenheit(celsius):\n",
        "    return celsius*1.8+32\n",
        "\n",
        "fahrenheit(-40)"
      ],
      "execution_count": 53,
      "outputs": [
        {
          "output_type": "execute_result",
          "data": {
            "text/plain": [
              "-40.0"
            ]
          },
          "metadata": {
            "tags": []
          },
          "execution_count": 53
        }
      ]
    },
    {
      "cell_type": "markdown",
      "metadata": {
        "id": "HLb_3mZd4Wxo"
      },
      "source": [
        "Esses são só alguns exemplos de cálculos que podem ser automatizados. Se tivermos um ou mais cálculos/procedimentos que iremos repetir com frequência, automatizar os mesmos pode economizar muito tempo (e paciência). Um excelente livro sobre isso é o [Automate the Boring Stuff with Python](https://automatetheboringstuff.com/) (em inglês)."
      ]
    },
    {
      "cell_type": "markdown",
      "metadata": {
        "id": "FplUeofn4b3g"
      },
      "source": [
        "Nos vemos na próxima aula!"
      ]
    }
  ]
}