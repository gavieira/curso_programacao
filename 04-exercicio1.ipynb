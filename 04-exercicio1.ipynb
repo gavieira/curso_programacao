{
  "nbformat": 4,
  "nbformat_minor": 0,
  "metadata": {
    "kernelspec": {
      "display_name": "Python 3",
      "language": "python",
      "name": "python3"
    },
    "language_info": {
      "codemirror_mode": {
        "name": "ipython",
        "version": 3
      },
      "file_extension": ".py",
      "mimetype": "text/x-python",
      "name": "python",
      "nbconvert_exporter": "python",
      "pygments_lexer": "ipython3",
      "version": "3.8.3"
    },
    "colab": {
      "name": "04-exercicio1.ipynb",
      "provenance": [],
      "include_colab_link": true
    }
  },
  "cells": [
    {
      "cell_type": "markdown",
      "metadata": {
        "id": "view-in-github",
        "colab_type": "text"
      },
      "source": [
        "<a href=\"https://colab.research.google.com/github/projetinho-bioinfo/curso_programacao/blob/master/04-exercicio1.ipynb\" target=\"_parent\"><img src=\"https://colab.research.google.com/assets/colab-badge.svg\" alt=\"Open In Colab\"/></a>"
      ]
    },
    {
      "cell_type": "markdown",
      "metadata": {
        "id": "6XMru-0N4Wu9"
      },
      "source": [
        "# Exercícios"
      ]
    },
    {
      "cell_type": "markdown",
      "metadata": {
        "id": "3AL16pTs4WvC"
      },
      "source": [
        "## 1\n",
        "Escreva um programa que imprima \"Hello World!\" na tela ao ser executado."
      ]
    },
    {
      "cell_type": "code",
      "metadata": {
        "id": "oQum6EEZ4WvF",
        "outputId": "66b128b7-d750-4b2c-aec8-a5452e578d9d",
        "colab": {
          "base_uri": "https://localhost:8080/",
          "height": 34
        }
      },
      "source": [
        "print(\"Hello World!\")"
      ],
      "execution_count": 1,
      "outputs": [
        {
          "output_type": "stream",
          "text": [
            "Hello World!\n"
          ],
          "name": "stdout"
        }
      ]
    },
    {
      "cell_type": "markdown",
      "metadata": {
        "id": "-6E7JFXw4WvS"
      },
      "source": [
        "## 2\n",
        "Escreva uma função que receba três números. Ela deve:\n",
        "- Somar o primeiro com o quadrado do segundo\n",
        "- Dividir essa soma pelo terceiro\n",
        "- Retornar o número resultante"
      ]
    },
    {
      "cell_type": "code",
      "metadata": {
        "id": "qj8GtvfCkE-K"
      },
      "source": [
        ""
      ],
      "execution_count": null,
      "outputs": []
    },
    {
      "cell_type": "code",
      "metadata": {
        "id": "Tkyo54B24WvU",
        "outputId": "cea891d7-0d6e-45c4-f0a5-5d3dd565590f",
        "colab": {
          "base_uri": "https://localhost:8080/",
          "height": 34
        }
      },
      "source": [
        "def puppy(n1,n2,n3):\n",
        "  return((n1+n2**2)/n3)\n",
        "puppy (9,4,5)"
      ],
      "execution_count": 36,
      "outputs": [
        {
          "output_type": "execute_result",
          "data": {
            "text/plain": [
              "5.0"
            ]
          },
          "metadata": {
            "tags": []
          },
          "execution_count": 36
        }
      ]
    },
    {
      "cell_type": "markdown",
      "metadata": {
        "id": "PAXsufQH4Wve"
      },
      "source": [
        "## 3\n",
        "Escreva as funções descritas abaixo:\n",
        "- Dica: Lembre que os valores que variam devem ser sempre passados para a função como argumentos."
      ]
    },
    {
      "cell_type": "markdown",
      "metadata": {
        "id": "nG9vywR74Wvg"
      },
      "source": [
        "Função que retorne a área de um quadrilátero:"
      ]
    },
    {
      "cell_type": "code",
      "metadata": {
        "id": "yEICiUVE4Wvi",
        "outputId": "6c5b3c67-4311-4d23-9fab-7f874832783c",
        "colab": {
          "base_uri": "https://localhost:8080/",
          "height": 34
        }
      },
      "source": [
        "def la(l,a):\n",
        "  return l*a\n",
        "la (4,5)\n",
        "\n"
      ],
      "execution_count": 31,
      "outputs": [
        {
          "output_type": "execute_result",
          "data": {
            "text/plain": [
              "20"
            ]
          },
          "metadata": {
            "tags": []
          },
          "execution_count": 31
        }
      ]
    },
    {
      "cell_type": "markdown",
      "metadata": {
        "id": "5-Pe_sT14Wvr"
      },
      "source": [
        "Função que retorne o volume de uma caixa:"
      ]
    },
    {
      "cell_type": "code",
      "metadata": {
        "id": "RsHEp2wF4Wvt",
        "outputId": "b06df7c4-b5b9-4583-aa97-0598c02a9e98",
        "colab": {
          "base_uri": "https://localhost:8080/",
          "height": 34
        }
      },
      "source": [
        "def gelo(a,b,c):\n",
        "  return (a*b*c)\n",
        "gelo (3,5,7)"
      ],
      "execution_count": 37,
      "outputs": [
        {
          "output_type": "execute_result",
          "data": {
            "text/plain": [
              "105"
            ]
          },
          "metadata": {
            "tags": []
          },
          "execution_count": 37
        }
      ]
    },
    {
      "cell_type": "markdown",
      "metadata": {
        "id": "_nymbAmW4Wv5"
      },
      "source": [
        "Função que retorne o comprimento de uma circunferência:"
      ]
    },
    {
      "cell_type": "code",
      "metadata": {
        "id": "9DT_auNe4Wv7",
        "outputId": "584251bf-228b-43d6-d2b7-7abaa2190214",
        "colab": {
          "base_uri": "https://localhost:8080/",
          "height": 34
        }
      },
      "source": [
        "def moeda(d,pi,raio):\n",
        "  return (d*pi*raio)\n",
        "moeda (2,5,3.14)"
      ],
      "execution_count": 46,
      "outputs": [
        {
          "output_type": "execute_result",
          "data": {
            "text/plain": [
              "31.400000000000002"
            ]
          },
          "metadata": {
            "tags": []
          },
          "execution_count": 46
        }
      ]
    },
    {
      "cell_type": "markdown",
      "metadata": {
        "id": "iHLeEZZo4WwE"
      },
      "source": [
        "Função que retorne a área de um círculo:"
      ]
    },
    {
      "cell_type": "code",
      "metadata": {
        "id": "WNiAgE-34WwG",
        "outputId": "367c887c-5384-4144-cd09-c069df44425a",
        "colab": {
          "base_uri": "https://localhost:8080/",
          "height": 34
        }
      },
      "source": [
        "def água(pi,e):\n",
        "  return (pi*e**2)\n",
        "água (3.14,3)"
      ],
      "execution_count": 49,
      "outputs": [
        {
          "output_type": "execute_result",
          "data": {
            "text/plain": [
              "28.26"
            ]
          },
          "metadata": {
            "tags": []
          },
          "execution_count": 49
        }
      ]
    },
    {
      "cell_type": "markdown",
      "metadata": {
        "id": "zmLNV3ql4WwS"
      },
      "source": [
        "Função que retorne o volume de uma esfera:"
      ]
    },
    {
      "cell_type": "code",
      "metadata": {
        "id": "jVXre2cZ4WwU",
        "outputId": "34f0a8d3-46c9-4e85-904a-7f7a965827f7",
        "colab": {
          "base_uri": "https://localhost:8080/",
          "height": 34
        }
      },
      "source": [
        "def bola(f,g,h):\n",
        "  return (f*g*h**3)\n",
        "bola(4,3.14,2)"
      ],
      "execution_count": 50,
      "outputs": [
        {
          "output_type": "execute_result",
          "data": {
            "text/plain": [
              "100.48"
            ]
          },
          "metadata": {
            "tags": []
          },
          "execution_count": 50
        }
      ]
    },
    {
      "cell_type": "markdown",
      "metadata": {
        "id": "9NjoJmdA4Wwc"
      },
      "source": [
        "Função que calcule e retorne juros simples:"
      ]
    },
    {
      "cell_type": "code",
      "metadata": {
        "id": "hUrkp9Sx4Wwe",
        "outputId": "945bce6a-8f07-469b-a949-e1a27b2c8e73",
        "colab": {
          "base_uri": "https://localhost:8080/",
          "height": 34
        }
      },
      "source": [
        "def js(i,j,k):\n",
        "  return (i*j*k)\n",
        "js(2,2,2)"
      ],
      "execution_count": 51,
      "outputs": [
        {
          "output_type": "execute_result",
          "data": {
            "text/plain": [
              "8"
            ]
          },
          "metadata": {
            "tags": []
          },
          "execution_count": 51
        }
      ]
    },
    {
      "cell_type": "markdown",
      "metadata": {
        "id": "AkKrrfpE4Wwo"
      },
      "source": [
        "Função que calcule e retorne juros compostos:"
      ]
    },
    {
      "cell_type": "code",
      "metadata": {
        "id": "bqj3dSOP4Wwp",
        "outputId": "dbd65a31-f1fe-47f2-d19d-ee993e2bb182",
        "colab": {
          "base_uri": "https://localhost:8080/",
          "height": 34
        }
      },
      "source": [
        "def jc(l,o,n):\n",
        "  return (l*(1+o)**n)\n",
        "jc (2,3,4)\n",
        "\n"
      ],
      "execution_count": 53,
      "outputs": [
        {
          "output_type": "execute_result",
          "data": {
            "text/plain": [
              "512"
            ]
          },
          "metadata": {
            "tags": []
          },
          "execution_count": 53
        }
      ]
    },
    {
      "cell_type": "markdown",
      "metadata": {
        "id": "ImIgSCB64Wwy"
      },
      "source": [
        "Função que retorne o seno de um ângulo:"
      ]
    },
    {
      "cell_type": "code",
      "metadata": {
        "id": "LMnuQHUW4Ww2",
        "outputId": "45fc110e-35b2-4c29-ceb4-966bf96aeaec",
        "colab": {
          "base_uri": "https://localhost:8080/",
          "height": 34
        }
      },
      "source": [
        "def s(co,h):\n",
        "  return (co/h)\n",
        "s(10,5)"
      ],
      "execution_count": 54,
      "outputs": [
        {
          "output_type": "execute_result",
          "data": {
            "text/plain": [
              "2.0"
            ]
          },
          "metadata": {
            "tags": []
          },
          "execution_count": 54
        }
      ]
    },
    {
      "cell_type": "markdown",
      "metadata": {
        "id": "5dOsoOph4WxA"
      },
      "source": [
        "Função que retorne o cosseno de um ângulo:"
      ]
    },
    {
      "cell_type": "code",
      "metadata": {
        "id": "4JQsPO1i4WxC",
        "outputId": "75613917-d00b-4541-e702-ea9394884624",
        "colab": {
          "base_uri": "https://localhost:8080/",
          "height": 34
        }
      },
      "source": [
        "def c(ca,h):\n",
        "  return (ca/h)\n",
        "c(5,10)"
      ],
      "execution_count": 55,
      "outputs": [
        {
          "output_type": "execute_result",
          "data": {
            "text/plain": [
              "0.5"
            ]
          },
          "metadata": {
            "tags": []
          },
          "execution_count": 55
        }
      ]
    },
    {
      "cell_type": "markdown",
      "metadata": {
        "id": "mDBtv1vb4WxT"
      },
      "source": [
        "Função que retorne a tangente de um ângulo:"
      ]
    },
    {
      "cell_type": "code",
      "metadata": {
        "id": "lMGUZY9s4WxV",
        "outputId": "516869a2-7bad-46fd-8679-eeb346f56ba1",
        "colab": {
          "base_uri": "https://localhost:8080/",
          "height": 34
        }
      },
      "source": [
        "def tg(co,ca):\n",
        "  return (co/ca)\n",
        "tg (2,0.5)"
      ],
      "execution_count": 56,
      "outputs": [
        {
          "output_type": "execute_result",
          "data": {
            "text/plain": [
              "4.0"
            ]
          },
          "metadata": {
            "tags": []
          },
          "execution_count": 56
        }
      ]
    },
    {
      "cell_type": "markdown",
      "metadata": {
        "id": "cwzq0YBP4Wxd"
      },
      "source": [
        "Função que converta temperatura em Celsius para Fahrenheit:"
      ]
    },
    {
      "cell_type": "code",
      "metadata": {
        "id": "wXRwNXl_4Wxf",
        "outputId": "774a7121-3658-45df-af9c-df6ed4cd27d5",
        "colab": {
          "base_uri": "https://localhost:8080/",
          "height": 34
        }
      },
      "source": [
        "def f(r,e,n):\n",
        "  return ((r*e)+n)\n",
        "f (20,9/5,30)"
      ],
      "execution_count": 57,
      "outputs": [
        {
          "output_type": "execute_result",
          "data": {
            "text/plain": [
              "66.0"
            ]
          },
          "metadata": {
            "tags": []
          },
          "execution_count": 57
        }
      ]
    },
    {
      "cell_type": "markdown",
      "metadata": {
        "id": "HLb_3mZd4Wxo"
      },
      "source": [
        "Esses são só alguns exemplos de cálculos que podem ser automatizados. Se tivermos um ou mais cálculos/procedimentos que iremos repetir com frequência, automatizar os mesmos pode economizar muito tempo (e paciência). Um excelente livro sobre isso é o [Automate the Boring Stuff with Python](https://automatetheboringstuff.com/) (em inglês)."
      ]
    },
    {
      "cell_type": "markdown",
      "metadata": {
        "id": "FplUeofn4b3g"
      },
      "source": [
        "Nos vemos na próxima aula!"
      ]
    }
  ]
}