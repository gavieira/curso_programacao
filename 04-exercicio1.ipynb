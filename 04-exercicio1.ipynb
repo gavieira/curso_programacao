{
  "nbformat": 4,
  "nbformat_minor": 0,
  "metadata": {
    "kernelspec": {
      "display_name": "Python 3",
      "language": "python",
      "name": "python3"
    },
    "language_info": {
      "codemirror_mode": {
        "name": "ipython",
        "version": 3
      },
      "file_extension": ".py",
      "mimetype": "text/x-python",
      "name": "python",
      "nbconvert_exporter": "python",
      "pygments_lexer": "ipython3",
      "version": "3.8.3"
    },
    "colab": {
      "name": "04-exercicio1.ipynb",
      "provenance": []
    }
  },
  "cells": [
    {
      "cell_type": "markdown",
      "metadata": {
        "id": "6XMru-0N4Wu9"
      },
      "source": [
        "# Exercícios"
      ]
    },
    {
      "cell_type": "markdown",
      "metadata": {
        "id": "3AL16pTs4WvC"
      },
      "source": [
        "## 1\n",
        "Escreva um programa que imprima \"Hello World!\" na tela ao ser executado."
      ]
    },
    {
      "cell_type": "code",
      "metadata": {
        "id": "oQum6EEZ4WvF"
      },
      "source": [
        "#Testando se o push pelo google colab está funcionando\n",
        "print(\"Hello World!\")"
      ],
      "execution_count": null,
      "outputs": []
    },
    {
      "cell_type": "markdown",
      "metadata": {
        "id": "-6E7JFXw4WvS"
      },
      "source": [
        "## 2\n",
        "Escreva uma função que receba três números. Ela deve:\n",
        "- Somar o primeiro com o quadrado do segundo\n",
        "- Dividir essa soma pelo terceiro\n",
        "- Retornar o número resultante"
      ]
    },
    {
      "cell_type": "code",
      "metadata": {
        "id": "Tkyo54B24WvU",
        "outputId": "0378f221-26f1-4d80-f55d-bd8510e174fd",
        "colab": {
          "base_uri": "https://localhost:8080/",
          "height": 35
        }
      },
      "source": [
        "#olá alunos, como vocês estão? Segunda é aniversário do João!\n",
        "def func(num1, num2, num3):\n",
        "    return ((num1 + num2**2)/num3)\n",
        "func(10, 5, 20)\n",
        "#Não consegui fazer separadamente"
      ],
      "execution_count": 2,
      "outputs": [
        {
          "output_type": "execute_result",
          "data": {
            "text/plain": [
              "1.75"
            ]
          },
          "metadata": {
            "tags": []
          },
          "execution_count": 2
        }
      ]
    },
    {
      "cell_type": "markdown",
      "metadata": {
        "id": "PAXsufQH4Wve"
      },
      "source": [
        "## 3\n",
        "Escreva as funções descritas abaixo:\n",
        "- Dica: Lembre que os valores que variam devem ser sempre passados para a função como argumentos."
      ]
    },
    {
      "cell_type": "markdown",
      "metadata": {
        "id": "nG9vywR74Wvg"
      },
      "source": [
        "Função que retorne a área de um quadrilátero:"
      ]
    },
    {
      "cell_type": "code",
      "metadata": {
        "id": "yEICiUVE4Wvi",
        "outputId": "22bfad55-9cf0-473a-f9c5-a2ebc48c527c",
        "colab": {
          "base_uri": "https://localhost:8080/",
          "height": 35
        }
      },
      "source": [
        "def área_quadrilátero(base, altura):\n",
        "    return base * altura\n",
        "área_quadrilátero(2, 6)"
      ],
      "execution_count": 1,
      "outputs": [
        {
          "output_type": "execute_result",
          "data": {
            "text/plain": [
              "12"
            ]
          },
          "metadata": {
            "tags": []
          },
          "execution_count": 1
        }
      ]
    },
    {
      "cell_type": "markdown",
      "metadata": {
        "id": "5-Pe_sT14Wvr"
      },
      "source": [
        "Função que retorne o volume de uma caixa:"
      ]
    },
    {
      "cell_type": "code",
      "metadata": {
        "id": "RsHEp2wF4Wvt"
      },
      "source": [
        "def área_quadrilátero(base, altura):\n",
        "    return base * altura\n",
        "área_quadrilátero(2, 6)"
      ],
      "execution_count": null,
      "outputs": []
    },
    {
      "cell_type": "markdown",
      "metadata": {
        "id": "_nymbAmW4Wv5"
      },
      "source": [
        "Função que retorne o comprimento de uma circunferência:"
      ]
    },
    {
      "cell_type": "code",
      "metadata": {
        "id": "9DT_auNe4Wv7"
      },
      "source": [
        "def comprimento_circunferência(raio):\n",
        "    return (raio*3.14*2)"
      ],
      "execution_count": null,
      "outputs": []
    },
    {
      "cell_type": "markdown",
      "metadata": {
        "id": "iHLeEZZo4WwE"
      },
      "source": [
        "Função que retorne a área de um círculo:"
      ]
    },
    {
      "cell_type": "code",
      "metadata": {
        "id": "WNiAgE-34WwG"
      },
      "source": [
        "def área_cir(raio2):\n",
        "    return (3.14*raio2**2)"
      ],
      "execution_count": 5,
      "outputs": []
    },
    {
      "cell_type": "markdown",
      "metadata": {
        "id": "zmLNV3ql4WwS"
      },
      "source": [
        "Função que retorne o volume de uma esfera:"
      ]
    },
    {
      "cell_type": "code",
      "metadata": {
        "id": "jVXre2cZ4WwU"
      },
      "source": [
        "def volume_cir(num):\n",
        "    return (3/4)*3.14*num**3"
      ],
      "execution_count": 4,
      "outputs": []
    },
    {
      "cell_type": "markdown",
      "metadata": {
        "id": "9NjoJmdA4Wwc"
      },
      "source": [
        "Função que calcule e retorne juros simples:"
      ]
    },
    {
      "cell_type": "code",
      "metadata": {
        "id": "hUrkp9Sx4Wwe"
      },
      "source": [
        "def juros_s(capital, taxa, período):\n",
        "    return capital*taxa*período"
      ],
      "execution_count": 3,
      "outputs": []
    },
    {
      "cell_type": "markdown",
      "metadata": {
        "id": "AkKrrfpE4Wwo"
      },
      "source": [
        "Função que calcule e retorne juros compostos:"
      ]
    },
    {
      "cell_type": "code",
      "metadata": {
        "id": "bqj3dSOP4Wwp",
        "outputId": "973e136e-266d-4251-85e4-4b65bf5cef9d",
        "colab": {
          "base_uri": "https://localhost:8080/",
          "height": 35
        }
      },
      "source": [
        "def juros_c(c, i, n):\n",
        "    return c*(1+i)**n\n",
        "juros_c(2, 3, 2)"
      ],
      "execution_count": 6,
      "outputs": [
        {
          "output_type": "execute_result",
          "data": {
            "text/plain": [
              "32"
            ]
          },
          "metadata": {
            "tags": []
          },
          "execution_count": 6
        }
      ]
    },
    {
      "cell_type": "markdown",
      "metadata": {
        "id": "ImIgSCB64Wwy"
      },
      "source": [
        "Função que retorne o seno de um ângulo:"
      ]
    },
    {
      "cell_type": "code",
      "metadata": {
        "id": "LMnuQHUW4Ww2"
      },
      "source": [
        "def seno(cat_o, hipo):\n",
        "    return cat_o/hipo"
      ],
      "execution_count": 7,
      "outputs": []
    },
    {
      "cell_type": "markdown",
      "metadata": {
        "id": "5dOsoOph4WxA"
      },
      "source": [
        "Função que retorne o cosseno de um ângulo:"
      ]
    },
    {
      "cell_type": "code",
      "metadata": {
        "id": "4JQsPO1i4WxC"
      },
      "source": [
        "def cosseno(cat_a, hipo):\n",
        "    return cat_a/hipo"
      ],
      "execution_count": null,
      "outputs": []
    },
    {
      "cell_type": "markdown",
      "metadata": {
        "id": "mDBtv1vb4WxT"
      },
      "source": [
        "Função que retorne a tangente de um ângulo:"
      ]
    },
    {
      "cell_type": "code",
      "metadata": {
        "id": "lMGUZY9s4WxV"
      },
      "source": [
        "def tg(seno, cosseno):\n",
        "    return seno/cosseno\n",
        "    "
      ],
      "execution_count": null,
      "outputs": []
    },
    {
      "cell_type": "markdown",
      "metadata": {
        "id": "cwzq0YBP4Wxd"
      },
      "source": [
        "Função que converta temperatura em Celsius para Fahrenheit:"
      ]
    },
    {
      "cell_type": "code",
      "metadata": {
        "id": "wXRwNXl_4Wxf"
      },
      "source": [
        "def fahrenheit(celsius):\n",
        "    return celsius*1.8+32\n",
        "fahrenheit(12)"
      ],
      "execution_count": null,
      "outputs": []
    },
    {
      "cell_type": "markdown",
      "metadata": {
        "id": "HLb_3mZd4Wxo"
      },
      "source": [
        "Esses são só alguns exemplos de cálculos que podem ser automatizados. Se tivermos um ou mais cálculos/procedimentos que iremos repetir com frequência, automatizar os mesmos pode economizar muito tempo (e paciência). Um excelente livro sobre isso é o [Automate the Boring Stuff with Python](https://automatetheboringstuff.com/) (em inglês)."
      ]
    },
    {
      "cell_type": "markdown",
      "metadata": {
        "id": "FplUeofn4b3g"
      },
      "source": [
        "Nos vemos na próxima aula!"
      ]
    }
  ]
}