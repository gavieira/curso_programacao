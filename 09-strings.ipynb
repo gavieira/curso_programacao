{
 "cells": [
  {
   "cell_type": "markdown",
   "metadata": {},
   "source": [
    "# Manipulação de strings"
   ]
  },
  {
   "cell_type": "markdown",
   "metadata": {},
   "source": [
    "Boa parte da bioinformática consiste na manipulação de informação representada em formato de texto, como no caso de sequências de DNA (compostas por 4 letras diferentes - ACGT). \n",
    "\n",
    "Assim sendo, saber como manipular dados do tipo ***string*** é geralmente muito importante em análises de bioinformática."
   ]
  },
  {
   "cell_type": "markdown",
   "metadata": {},
   "source": [
    "## strings - semelhanças com listas\n",
    "\n",
    "Como já vimos de relance anteriormente, `strings` são, assim como listas, coleções de elementos (caracteres) indexados. Isso fica evidente ao usarmos um `for` loop em uma string:"
   ]
  },
  {
   "cell_type": "code",
   "execution_count": 15,
   "metadata": {},
   "outputs": [
    {
     "name": "stdout",
     "output_type": "stream",
     "text": [
      "E\n",
      "s\n",
      "s\n",
      "a\n",
      " \n",
      "s\n",
      "t\n",
      "r\n",
      "i\n",
      "n\n",
      "g\n",
      " \n",
      "é\n",
      " \n",
      "u\n",
      "m\n",
      "a\n",
      " \n",
      "c\n",
      "o\n",
      "l\n",
      "e\n",
      "ç\n",
      "ã\n",
      "o\n",
      " \n",
      "d\n",
      "e\n",
      " \n",
      "c\n",
      "a\n",
      "r\n",
      "a\n",
      "c\n",
      "t\n",
      "e\n",
      "r\n",
      "e\n",
      "s\n"
     ]
    }
   ],
   "source": [
    "frase = \"Essa string é uma coleção de caracteres\"\n",
    "\n",
    "for letra in frase:\n",
    "    print(letra) # Repare que os espaços também são indexados"
   ]
  },
  {
   "cell_type": "markdown",
   "metadata": {},
   "source": [
    "Assim sendo, lista e string (e outras coleções) compartilham muitas similaridades. \n",
    "\n",
    "Podemos, por exemplo, usar a função `len()` para obter o tamanho de uma string ou fatiar a string, exatamente como vimos para as listas:"
   ]
  },
  {
   "cell_type": "code",
   "execution_count": 7,
   "metadata": {},
   "outputs": [
    {
     "name": "stdout",
     "output_type": "stream",
     "text": [
      "39\n"
     ]
    }
   ],
   "source": [
    "# Obtendo tamanho da string:\n",
    "print(len(frase))"
   ]
  },
  {
   "cell_type": "code",
   "execution_count": 19,
   "metadata": {},
   "outputs": [
    {
     "name": "stdout",
     "output_type": "stream",
     "text": [
      "Frase inteira: Essa string é uma coleção de caracteres\n",
      "Índice 0: E\n",
      "Última posição: s\n",
      "Índice 5 ao 25: string é uma coleção\n",
      "Índice 5 ao fim da string: string é uma coleção de caracteres\n",
      "Índice 0 ao índice 25: Essa string é uma coleção\n",
      "String reversa: seretcarac ed oãçeloc amu é gnirts assE\n"
     ]
    }
   ],
   "source": [
    "# Obtendo fatias da string:\n",
    "\n",
    "print(\"Frase inteira:\", frase[:]) # Não precisaria da notação de slicing\n",
    "\n",
    "print(\"Índice 0:\", frase[0])\n",
    "\n",
    "print(\"Última posição:\", frase[-1])\n",
    "\n",
    "print(\"Índice 5 ao 25:\", frase[5:25]) # Não inclui o caractere com index 25\n",
    "\n",
    "print(\"Índice 5 ao fim da string:\", frase[5:])\n",
    "\n",
    "print(\"Índice 0 ao índice 25:\", frase[:25]) # Não inclui o caractere com index 25\n",
    "\n",
    "print(\"String reversa:\", frase[::-1])"
   ]
  },
  {
   "cell_type": "markdown",
   "metadata": {},
   "source": [
    "Também podemos usar o operador `in` para checar se uma substring está presente em uma string:"
   ]
  },
  {
   "cell_type": "code",
   "execution_count": 20,
   "metadata": {},
   "outputs": [
    {
     "name": "stdout",
     "output_type": "stream",
     "text": [
      "True\n",
      "True\n",
      "False\n"
     ]
    }
   ],
   "source": [
    "print(\"string\" in frase)\n",
    "\n",
    "print(\"g é u\" in frase)\n",
    "\n",
    "print(\"ATACGTACGTA\" in frase)"
   ]
  },
  {
   "cell_type": "code",
   "execution_count": 21,
   "metadata": {},
   "outputs": [
    {
     "name": "stdout",
     "output_type": "stream",
     "text": [
      "False\n",
      "True\n"
     ]
    }
   ],
   "source": [
    "# Lembrando que o NOT inverte os valores booleanos retornados\n",
    "\n",
    "print(\"string\" not in frase)\n",
    "\n",
    "print(\"ATACGTACGTA\" not in frase)"
   ]
  },
  {
   "cell_type": "markdown",
   "metadata": {},
   "source": [
    "## Métodos de strings\n",
    "\n",
    "Vamos checar os métodos disponíveis para a classe `str` e abordar alguns dos mais importantes:"
   ]
  },
  {
   "cell_type": "code",
   "execution_count": 24,
   "metadata": {},
   "outputs": [
    {
     "name": "stdout",
     "output_type": "stream",
     "text": [
      "['__add__', '__class__', '__contains__', '__delattr__', '__dir__', '__doc__', '__eq__', '__format__', '__ge__', '__getattribute__', '__getitem__', '__getnewargs__', '__gt__', '__hash__', '__init__', '__init_subclass__', '__iter__', '__le__', '__len__', '__lt__', '__mod__', '__mul__', '__ne__', '__new__', '__reduce__', '__reduce_ex__', '__repr__', '__rmod__', '__rmul__', '__setattr__', '__sizeof__', '__str__', '__subclasshook__', 'capitalize', 'casefold', 'center', 'count', 'encode', 'endswith', 'expandtabs', 'find', 'format', 'format_map', 'index', 'isalnum', 'isalpha', 'isascii', 'isdecimal', 'isdigit', 'isidentifier', 'islower', 'isnumeric', 'isprintable', 'isspace', 'istitle', 'isupper', 'join', 'ljust', 'lower', 'lstrip', 'maketrans', 'partition', 'replace', 'rfind', 'rindex', 'rjust', 'rpartition', 'rsplit', 'rstrip', 'split', 'splitlines', 'startswith', 'strip', 'swapcase', 'title', 'translate', 'upper', 'zfill']\n"
     ]
    }
   ],
   "source": [
    "# Checando métodos disponíveis para a classe str\n",
    "\n",
    "print(dir(frase))"
   ]
  },
  {
   "cell_type": "markdown",
   "metadata": {},
   "source": [
    "### `str.format()`\n",
    "\n",
    "Já vimos ela várias vezes ao longo do curso. Basicamente, ela aceita múltiplos argumentos que são adicionados na string em posições com `{}`:"
   ]
  },
  {
   "cell_type": "code",
   "execution_count": 1,
   "metadata": {},
   "outputs": [
    {
     "name": "stdout",
     "output_type": "stream",
     "text": [
      "Eu quero comprar 5 unidades do produto cebola por 3.5 reais.\n"
     ]
    }
   ],
   "source": [
    "# Usando str.format() com múltiplos argumentos:\n",
    "\n",
    "quantidade = 5\n",
    "produto = \"cebola\"\n",
    "preco = 3.50\n",
    "\n",
    "pedido = \"Eu quero comprar {} unidades do produto {} por {} reais.\"\n",
    "\n",
    "print(pedido.format(quantidade, produto, preco))"
   ]
  },
  {
   "cell_type": "markdown",
   "metadata": {},
   "source": [
    "Também é possível se adicionar os índices dos argumentos dentro das chaves ` {0}, {1}, etc...` para se especificar a ordem na qual os argumentos serão adicionados à string. Também é possível repetir um argumento múltiplas vezes usando essa sintaxe:"
   ]
  },
  {
   "cell_type": "code",
   "execution_count": 28,
   "metadata": {},
   "outputs": [
    {
     "name": "stdout",
     "output_type": "stream",
     "text": [
      "Eu quero 2 unidades desse produto.\n",
      "Não 1, não 4 e nem 10.\n",
      "Exatamente 2 unidades\n"
     ]
    }
   ],
   "source": [
    "# Estabelecendo ordem e repetindo argumentos com str.format()\n",
    "\n",
    "pedido = \"Eu quero {3} unidades desse produto.\\nNão {0}, não {1} e nem {2}.\\nExatamente {3} unidades.\"\n",
    "\n",
    "print(pedido.format(1, 4, 10, 2))"
   ]
  },
  {
   "cell_type": "markdown",
   "metadata": {},
   "source": [
    "#### Adendo: f-Strings\n",
    "\n",
    "[f-Strings](https://realpython.com/python-f-strings/) são outra maneira, muitas vezes mais sucinta, de se formatar strings."
   ]
  },
  {
   "cell_type": "code",
   "execution_count": 3,
   "metadata": {},
   "outputs": [
    {
     "name": "stdout",
     "output_type": "stream",
     "text": [
      "Eu quero comprar 5 unidades do produto cebola por 3.5 reais.\n"
     ]
    }
   ],
   "source": [
    "# Formatando com f-string\n",
    "\n",
    "print(f\"Eu quero comprar {quantidade} unidades do produto {produto} por {preco} reais.\")"
   ]
  },
  {
   "cell_type": "code",
   "execution_count": 7,
   "metadata": {},
   "outputs": [
    {
     "name": "stdout",
     "output_type": "stream",
     "text": [
      "4 vezes 5 é igual a 20\n",
      "4 vezes 5 é igual a 20.0\n"
     ]
    }
   ],
   "source": [
    "# f-strings, assim como o método format, podem receber qualquer expressão/variável, podendo também acomodar funções/métodos\n",
    "\n",
    "print(f\"4 vezes 5 é igual a {4*5}\") # Sem função\n",
    "print(f\"4 vezes 5 é igual a {float(4*5)}\") # Com função"
   ]
  },
  {
   "cell_type": "markdown",
   "metadata": {},
   "source": [
    "## `str.strip()`\n",
    "\n",
    "Remove espaço em branco (*whitespace* - espaços ou tabs) no começo e no fim de strings."
   ]
  },
  {
   "cell_type": "code",
   "execution_count": 37,
   "metadata": {},
   "outputs": [
    {
     "name": "stdout",
     "output_type": "stream",
     "text": [
      "\"   Oi, pessoas!    \"\n",
      "\"Oi, pessoas!\"\n"
     ]
    }
   ],
   "source": [
    "saudacao = \"   Oi, pessoas!    \"\n",
    "\n",
    "print('\"{}\"'.format(saudacao)) # Com espaços em branco\n",
    "\n",
    "print('\"{}\"'.format(saudacao.strip())) # Sem espaços em branco"
   ]
  },
  {
   "cell_type": "markdown",
   "metadata": {},
   "source": [
    "Também há dois métodos mais específicos para se reitrar espaço em branco.\n",
    "\n",
    "Se você quiser retirar o espaço em branco apenas da direita (fim da string), pode usar `str.rstrip()`.\n",
    "\n",
    "Se você quiser retirar o espaço em branco apenas da esqueda (começo da string), pode usar `str.lstrip()`."
   ]
  },
  {
   "cell_type": "code",
   "execution_count": 38,
   "metadata": {},
   "outputs": [
    {
     "name": "stdout",
     "output_type": "stream",
     "text": [
      "\"   Oi, pessoas!\"\n",
      "\"Oi, pessoas!    \"\n"
     ]
    }
   ],
   "source": [
    "print('\"{}\"'.format(saudacao.rstrip())) # Retira espaço em branco do final\n",
    "\n",
    "print('\"{}\"'.format(saudacao.lstrip())) # Retira espaço em branco do começo"
   ]
  },
  {
   "cell_type": "markdown",
   "metadata": {},
   "source": [
    "## `str.upper()`, `str.lower()` e `str.capitalize()`\n",
    "\n",
    "- **str.upper()** retorna a string convertida em maiúsculas\n",
    "- **str.lower()** retorna a string convertida em minúsculas\n",
    "- **str.capitalize()** retorna a string com a primeira letra maiúscula e as outras minusculas"
   ]
  },
  {
   "cell_type": "code",
   "execution_count": 47,
   "metadata": {},
   "outputs": [
    {
     "name": "stdout",
     "output_type": "stream",
     "text": [
      "OLá! - normal\n",
      "OLÁ! - maiúscula\n",
      "olá! - minúscula\n",
      "Olá! - capitalizada\n"
     ]
    }
   ],
   "source": [
    "# Criando string\n",
    "palavra = \"OLá!\"\n",
    "print(\"{} - normal\".format(palavra))\n",
    "\n",
    "# Convertendo para maiúscula\n",
    "print(\"{} - maiúscula\".format(palavra.upper()))\n",
    "\n",
    "# Convertendo para minúscula\n",
    "print(\"{} - minúscula\".format(palavra.lower()))\n",
    "\n",
    "# Capitalizando\n",
    "print(\"{} - capitalizada\".format(palavra.capitalize()))"
   ]
  },
  {
   "cell_type": "markdown",
   "metadata": {},
   "source": [
    "### `str.startswith()` e `str.endswith()`\n",
    "\n",
    "Checam se uma string começa ou termina com uma substring (passada como parâmetro), respectivamente. Ambos os métodos retornam um valor booleano."
   ]
  },
  {
   "cell_type": "code",
   "execution_count": 123,
   "metadata": {},
   "outputs": [
    {
     "name": "stdout",
     "output_type": "stream",
     "text": [
      "True\n",
      "True\n"
     ]
    }
   ],
   "source": [
    "# starstswith\n",
    "\n",
    "print(\"célula\".startswith('c'))\n",
    "\n",
    "print(\"mitose\".startswith(\"mit\"))"
   ]
  },
  {
   "cell_type": "code",
   "execution_count": 126,
   "metadata": {},
   "outputs": [
    {
     "name": "stdout",
     "output_type": "stream",
     "text": [
      "True\n",
      "True\n"
     ]
    }
   ],
   "source": [
    "# endswith\n",
    "\n",
    "print(\"célula\".endswith(\"a\"))\n",
    "\n",
    "print(\"mitose\".endswith('ose'))"
   ]
  },
  {
   "cell_type": "markdown",
   "metadata": {},
   "source": [
    "### `str.replace()`\n",
    "\n",
    "Como o nome diz, o método `str.replace()` substitui uma string por outra."
   ]
  },
  {
   "cell_type": "code",
   "execution_count": 52,
   "metadata": {},
   "outputs": [
    {
     "name": "stdout",
     "output_type": "stream",
     "text": [
      "O ribossomo gera energia para a célula - ERRADO\n",
      "A mitocôndria gera energia para a célula - CORRETO\n"
     ]
    }
   ],
   "source": [
    "frase_errada = \"O ribossomo gera energia para a célula\"\n",
    "\n",
    "print(\"{} - ERRADO\".format(frase_errada))\n",
    "\n",
    "frase_correta = frase_errada.replace(\"O ribossomo\", \"A mitocôndria\")\n",
    "\n",
    "print(\"{} - CORRETO\".format(frase_correta))"
   ]
  },
  {
   "cell_type": "markdown",
   "metadata": {},
   "source": [
    "### `str.split()`\n",
    "\n",
    "Separa a string em substrings. Retorna uma lista.\n",
    "\n",
    "Sintaxe:\n",
    "   \n",
    "    str.split(separador, maxsplit)\n",
    "\n",
    "- separador: Especifica o separador usado para partir a string. O padrão é usar *whitespace*.\n",
    "- maxsplit: Quantas vezes a string deve ser partida ao se encontrar o separador. O padrão é dividir a string em todas as aparições do separador."
   ]
  },
  {
   "cell_type": "code",
   "execution_count": 90,
   "metadata": {},
   "outputs": [
    {
     "name": "stdout",
     "output_type": "stream",
     "text": [
      "['Muitos', 'que', 'vivem', 'merecem', 'a', 'morte.', 'E', 'alguns', 'que', 'morrem', 'merecem', 'viver.', 'Você', 'pode', 'dar-lhes', 'a', 'vida?', 'Então', 'não', 'seja', 'tão', 'ávido', 'para', 'julgar', 'e', 'condenar', 'alguém', 'a', 'morte.', 'Pois', 'mesmo', 'os', 'muitos', 'sábios', 'não', 'conseguem', 'ver', 'os', 'dois', 'lados.']\n"
     ]
    }
   ],
   "source": [
    "frase_gandalf = \"Muitos que vivem merecem a morte. E alguns que morrem merecem viver. Você pode dar-lhes a vida? Então não seja tão ávido para julgar e condenar alguém a morte. Pois mesmo os muitos sábios não conseguem ver os dois lados.\"\n",
    "\n",
    "# Sem especificar separador\n",
    "print(frase_gandalf.split())"
   ]
  },
  {
   "cell_type": "markdown",
   "metadata": {},
   "source": [
    "Usando o parâmetro `separador`:"
   ]
  },
  {
   "cell_type": "code",
   "execution_count": 68,
   "metadata": {},
   "outputs": [
    {
     "name": "stdout",
     "output_type": "stream",
     "text": [
      "['Muitos que vivem merecem a morte', ' E alguns que morrem merecem viver', ' Você pode dar-lhes a vida? Então não seja tão ávido para julgar e condenar alguém a morte', ' Pois mesmo os muitos sábios não conseguem ver os dois lados', '']\n"
     ]
    }
   ],
   "source": [
    "# Especificando separador\n",
    "print(frase_gandalf.split('.'))"
   ]
  },
  {
   "cell_type": "code",
   "execution_count": 70,
   "metadata": {},
   "outputs": [
    {
     "name": "stdout",
     "output_type": "stream",
     "text": [
      " Você pode dar-lhes a vida? Então não seja tão ávido para julgar e condenar alguém a morte\n",
      "\n",
      " Pois mesmo os muitos sábios não conseguem ver os dois lados\n"
     ]
    }
   ],
   "source": [
    "# Imprimindo apenas terceira frase (índice 2)\n",
    "print(frase_gandalf.split('.')[2])\n",
    "\n",
    "# Imprimindo apenas quarta frase (índice 3)\n",
    "print(\"\\n\" + frase_gandalf.split('.')[3]) # Concatenação de string"
   ]
  },
  {
   "cell_type": "markdown",
   "metadata": {},
   "source": [
    "Usando o parâmetro `maxsplit`:"
   ]
  },
  {
   "cell_type": "code",
   "execution_count": 77,
   "metadata": {},
   "outputs": [
    {
     "name": "stdout",
     "output_type": "stream",
     "text": [
      "['Muitos que vivem merecem a morte', ' E alguns que morrem merecem viver. Você pode dar-lhes a vida? Então não seja tão ávido para julgar e condenar alguém a morte. Pois mesmo os muitos sábios não conseguem ver os dois lados.']\n",
      "2\n",
      "\n",
      "['Muitos que vivem merecem a morte', ' E alguns que morrem merecem viver', ' Você pode dar-lhes a vida? Então não seja tão ávido para julgar e condenar alguém a morte. Pois mesmo os muitos sábios não conseguem ver os dois lados.']\n",
      "3\n"
     ]
    }
   ],
   "source": [
    "# Separar só no primeiro ponto\n",
    "um_split = frase_gandalf.split('.', 1)\n",
    "print(um_split)\n",
    "print(len(um_split))\n",
    "\n",
    "# Separar só nos dois primeiros pontos\n",
    "print()\n",
    "dois_splits = frase_gandalf.split('.', 2)\n",
    "print(dois_splits)\n",
    "print(len(dois_splits))"
   ]
  },
  {
   "cell_type": "markdown",
   "metadata": {},
   "source": [
    "Repare que `str.split()` checa a ocorrência do separador da **esquerda para a direita**. Ou seja, do começo para o fim da string.\n",
    "\n",
    "Se por algum motivo quisermos começar a separar a string a partir do final (ou seja, da **direita para a esqueda**, podemos usar o método `str.rsplit()`.\n",
    "\n",
    "Ambos os métodos possuem os mesmos parâmetros, então seus usos são basicamente idênticos."
   ]
  },
  {
   "cell_type": "code",
   "execution_count": 82,
   "metadata": {},
   "outputs": [
    {
     "name": "stdout",
     "output_type": "stream",
     "text": [
      "['Muitos que vivem merecem a morte', ' E alguns que morrem merecem viver', ' Você pode dar-lhes a vida? Então não seja tão ávido para julgar e condenar alguém a morte. Pois mesmo os muitos sábios não conseguem ver os dois lados.']\n",
      "3\n",
      "\n",
      "['Muitos que vivem merecem a morte. E alguns que morrem merecem viver. Você pode dar-lhes a vida? Então não seja tão ávido para julgar e condenar alguém a morte', ' Pois mesmo os muitos sábios não conseguem ver os dois lados', '']\n",
      "3\n"
     ]
    }
   ],
   "source": [
    "# Separar só nos dois primeiros pontos\n",
    "dois_split_prim = frase_gandalf.split('.', 2)\n",
    "print(dois_split_prim)\n",
    "print(len(dois_split_prim))\n",
    "\n",
    "# Separar só nos dois últimos pontos\n",
    "dois_split_ult = frase_gandalf.rsplit('.', 2)\n",
    "print()\n",
    "print(dois_split_ult) # No final, temos uma string vazia - retirada do último '.'\n",
    "print(len(dois_split_ult))"
   ]
  },
  {
   "cell_type": "markdown",
   "metadata": {},
   "source": [
    "Isso é tudo sobre métodos da classe string. \n",
    "\n",
    "Note que **todos os métodos de strings retornam novos valores. Consequentemente, eles não mudam o valor original da string.**"
   ]
  },
  {
   "cell_type": "markdown",
   "metadata": {},
   "source": [
    "### Caracteres \"escapados\"\n",
    "\n",
    "Alguns caracteres com funções específicas em Python podem ser incorporados em strings ao se usar sua respectiva versão \"escapada\" (*escape character*).\n",
    "\n",
    "Um *escape character* é uma contrabarra `\\` seguida do caracter que se quer inserir.\n",
    "\n",
    "Por exemplo, podemos querer adicionar aspas duplas dentro de uma string que já usa aspas duplas:"
   ]
  },
  {
   "cell_type": "code",
   "execution_count": 106,
   "metadata": {},
   "outputs": [
    {
     "ename": "SyntaxError",
     "evalue": "invalid syntax (<ipython-input-106-34e8a3fe28c6>, line 2)",
     "output_type": "error",
     "traceback": [
      "\u001b[0;36m  File \u001b[0;32m\"<ipython-input-106-34e8a3fe28c6>\"\u001b[0;36m, line \u001b[0;32m2\u001b[0m\n\u001b[0;31m    frase = \"Eu não acho que esse seu \"remédio\" vai funcionar\"\u001b[0m\n\u001b[0m                                       ^\u001b[0m\n\u001b[0;31mSyntaxError\u001b[0m\u001b[0;31m:\u001b[0m invalid syntax\n"
     ]
    }
   ],
   "source": [
    "# Dará erro\n",
    "frase = \"Eu não acho que esse seu \"remédio\" vai funcionar\"\n",
    "print(frase)"
   ]
  },
  {
   "cell_type": "code",
   "execution_count": 107,
   "metadata": {},
   "outputs": [
    {
     "name": "stdout",
     "output_type": "stream",
     "text": [
      "Eu não acho que esse seu \"remédio\" vai funcionar\n"
     ]
    }
   ],
   "source": [
    "# Se escaparmos as aspas duplas...\n",
    "frase = \"Eu não acho que esse seu \\\"remédio\\\" vai funcionar\"\n",
    "print(frase)"
   ]
  },
  {
   "cell_type": "code",
   "execution_count": 113,
   "metadata": {},
   "outputs": [
    {
     "name": "stdout",
     "output_type": "stream",
     "text": [
      "\"\n",
      "1\n"
     ]
    }
   ],
   "source": [
    "# OBS: Apesar de ser escrito como \\\", o caractere escapado ainda conta como um único caractere\n",
    "print(\"\\\"\")\n",
    "print(len(\"\\\"\"))"
   ]
  },
  {
   "cell_type": "markdown",
   "metadata": {},
   "source": [
    "Claro que há outras formas de lidar com isso\n",
    "\n",
    "Podemos, por exemplo, botar a string inteira dentro de aspas simples:"
   ]
  },
  {
   "cell_type": "code",
   "execution_count": 109,
   "metadata": {},
   "outputs": [
    {
     "name": "stdout",
     "output_type": "stream",
     "text": [
      "Eu não acho que esse seu \"remédio\" vai funcionar\n"
     ]
    }
   ],
   "source": [
    "frase = 'Eu não acho que esse seu \\\"remédio\\\" vai funcionar'\n",
    "print(frase)"
   ]
  },
  {
   "cell_type": "markdown",
   "metadata": {},
   "source": [
    "Então, a contrabarra é usada para escapar caracteres. Mas e se quisermos escapar a contrabarra? Bom, tem um caractere escapado pra isso tbm:"
   ]
  },
  {
   "cell_type": "code",
   "execution_count": 115,
   "metadata": {},
   "outputs": [
    {
     "ename": "SyntaxError",
     "evalue": "EOL while scanning string literal (<ipython-input-115-f25581c85644>, line 2)",
     "output_type": "error",
     "traceback": [
      "\u001b[0;36m  File \u001b[0;32m\"<ipython-input-115-f25581c85644>\"\u001b[0;36m, line \u001b[0;32m2\u001b[0m\n\u001b[0;31m    print(\"Essa é a contrabarra: \\\")\u001b[0m\n\u001b[0m                                    ^\u001b[0m\n\u001b[0;31mSyntaxError\u001b[0m\u001b[0;31m:\u001b[0m EOL while scanning string literal\n"
     ]
    }
   ],
   "source": [
    "# Contrabarra sem escape\n",
    "print(\"Essa é a contrabarra: \\\")"
   ]
  },
  {
   "cell_type": "code",
   "execution_count": 116,
   "metadata": {},
   "outputs": [
    {
     "name": "stdout",
     "output_type": "stream",
     "text": [
      "Essa é a contrabarra: \\\n"
     ]
    }
   ],
   "source": [
    "# Escapando contrabarra\n",
    "print(\"Essa é a contrabarra: \\\\\")"
   ]
  },
  {
   "cell_type": "markdown",
   "metadata": {},
   "source": [
    "Há vários outros caracteres escapados em Python, mas os mais importantes são o *newline* (`\\n`) e o *tab* (`\\t`):\n",
    "\n",
    "- newline: Adiciona uma nova linha\n",
    "- tab: Adiciona espaço em branco (tabulação)"
   ]
  },
  {
   "cell_type": "code",
   "execution_count": 117,
   "metadata": {},
   "outputs": [
    {
     "name": "stdout",
     "output_type": "stream",
     "text": [
      "Isso em uma linha\n",
      "Isso em outra\n",
      "Isso na última\n"
     ]
    }
   ],
   "source": [
    "# Usando newline para imprimir em multiplas linhas\n",
    "print(\"Isso em uma linha\\nIsso em outra\\nIsso na última\")"
   ]
  },
  {
   "cell_type": "code",
   "execution_count": 118,
   "metadata": {},
   "outputs": [
    {
     "name": "stdout",
     "output_type": "stream",
     "text": [
      "Produto\tvalor\n",
      "maçã\t5.20\n",
      "pêra\t4.70\n"
     ]
    }
   ],
   "source": [
    "# Usando tab para separar valores\n",
    "print(\"Produto\\tvalor\\nmaçã\\t5.20\\npêra\\t4.70\")"
   ]
  },
  {
   "cell_type": "markdown",
   "metadata": {},
   "source": [
    "Saber da existência dos caracteres escapados pode ser útil para lidar com situações dentro e fora do Python e lidar com caracteres especiais.\n",
    "\n",
    "Ao se trabalhar com arquivos no terminal do linux, por exemplo, representar os **espaços** em nomes de arquivos como \"\\ \" é uma forma de acessá-los. Também é possível colocar o nome com espaços cercados por aspas, para representar que é uma string única, não vários parâmetros distintos."
   ]
  },
  {
   "cell_type": "markdown",
   "metadata": {},
   "source": [
    "### Strings com múltiplas linhas ou linhas muito compridas\n",
    "\n",
    "Para strings com mais de uma linha, além de usar o caractere newline`\\n`, podemos escrever elas cercadas por conjuntos de três aspas (simples ou duplas), exatamente como quando escrevemos ***docstrings*** para funções:"
   ]
  },
  {
   "cell_type": "code",
   "execution_count": 119,
   "metadata": {},
   "outputs": [
    {
     "name": "stdout",
     "output_type": "stream",
     "text": [
      "Lorem ipsum dolor sit amet,\n",
      "consectetur adipiscing elit,\n",
      "sed do eiusmod tempor incididunt\n",
      "ut labore et dolore magna aliqua.\n"
     ]
    }
   ],
   "source": [
    "# Multilinha usando o caractere 'newline'(\\n)\n",
    "multilinha = \"Lorem ipsum dolor sit amet,\\nconsectetur adipiscing elit,\\nsed do eiusmod tempor incididunt\\nut labore et dolore magna aliqua.\"\n",
    "print(multilinha)"
   ]
  },
  {
   "cell_type": "code",
   "execution_count": 120,
   "metadata": {},
   "outputs": [
    {
     "name": "stdout",
     "output_type": "stream",
     "text": [
      "Lorem ipsum dolor sit amet,\n",
      "consectetur adipiscing elit,\n",
      "sed do eiusmod tempor incididunt\n",
      "ut labore et dolore magna aliqua.\n"
     ]
    }
   ],
   "source": [
    "# Multilinha usando aspas simples\n",
    "multilinha2 = \"\"\"Lorem ipsum dolor sit amet,\n",
    "consectetur adipiscing elit,\n",
    "sed do eiusmod tempor incididunt\n",
    "ut labore et dolore magna aliqua.\"\"\"\n",
    "\n",
    "print(multilinha2)"
   ]
  },
  {
   "cell_type": "code",
   "execution_count": 121,
   "metadata": {},
   "outputs": [
    {
     "data": {
      "text/plain": [
       "True"
      ]
     },
     "execution_count": 121,
     "metadata": {},
     "output_type": "execute_result"
    }
   ],
   "source": [
    "# Mesma string, apesar da sintaxe diferente\n",
    "multilinha == multilinha2"
   ]
  },
  {
   "cell_type": "markdown",
   "metadata": {},
   "source": [
    "Linhas muito longas podem dificultar a a leitura do código.\n",
    "\n",
    "Podemos visualizar uma linha muito longa em múltiplas linhas de codigo adicionando uma contrabarra `\\` no meio da string e começando uma nova linha."
   ]
  },
  {
   "cell_type": "code",
   "execution_count": 99,
   "metadata": {},
   "outputs": [],
   "source": [
    "linha_longa_inteira = \"Muitos que vivem merecem a morte. E alguns que morrem merecem viver. Você pode dar-lhes a vida? Então não seja tão ávido para julgar e condenar alguém a morte. Pois mesmo os muitos sábios não conseguem ver os dois lados.\"\n",
    "\n",
    "linha_longa_legivel = \"Muitos que vivem merecem a morte. \\\n",
    "E alguns que morrem merecem viver. \\\n",
    "Você pode dar-lhes a vida? \\\n",
    "Então não seja tão ávido para julgar e condenar alguém a morte. \\\n",
    "Pois mesmo os muitos sábios não conseguem ver os dois lados.\""
   ]
  },
  {
   "cell_type": "code",
   "execution_count": 98,
   "metadata": {},
   "outputs": [
    {
     "name": "stdout",
     "output_type": "stream",
     "text": [
      "Muitos que vivem merecem a morte. E alguns que morrem merecem viver. Você pode dar-lhes a vida? Então não seja tão ávido para julgar e condenar alguém a morte. Pois mesmo os muitos sábios não conseguem ver os dois lados.\n",
      "\n",
      "Muitos que vivem merecem a morte. E alguns que morrem merecem viver. Você pode dar-lhes a vida? Então não seja tão ávido para julgar e condenar alguém a morte. Pois mesmo os muitos sábios não conseguem ver os dois lados.\n"
     ]
    }
   ],
   "source": [
    "print(linha_longa_inteira)\n",
    "print()\n",
    "print(linha_longa_legivel)"
   ]
  },
  {
   "cell_type": "markdown",
   "metadata": {},
   "source": [
    "Perceba que a adição da contrabarra só alterou a forma que a linha é exibida no código, tornando-a mais legível.\n",
    "\n",
    "O conteúdo da linha em si não foi alterado. Ou seja, tanto a variável `linha_longa_inteira` quanto `linha_longa_legivel` possuem exatamente o mesmo valor:"
   ]
  },
  {
   "cell_type": "code",
   "execution_count": 100,
   "metadata": {},
   "outputs": [
    {
     "data": {
      "text/plain": [
       "True"
      ]
     },
     "execution_count": 100,
     "metadata": {},
     "output_type": "execute_result"
    }
   ],
   "source": [
    "linha_longa_inteira == linha_longa_legivel"
   ]
  },
  {
   "cell_type": "markdown",
   "metadata": {},
   "source": [
    "Isso é tudo sobre **manipulação de strings**. Em breve estaremos prontos para lidar com arquivos contendo informação biológica. Até a próxima aula!"
   ]
  }
 ],
 "metadata": {
  "kernelspec": {
   "display_name": "Python 3",
   "language": "python",
   "name": "python3"
  },
  "language_info": {
   "codemirror_mode": {
    "name": "ipython",
    "version": 3
   },
   "file_extension": ".py",
   "mimetype": "text/x-python",
   "name": "python",
   "nbconvert_exporter": "python",
   "pygments_lexer": "ipython3",
   "version": "3.8.3"
  }
 },
 "nbformat": 4,
 "nbformat_minor": 4
}
